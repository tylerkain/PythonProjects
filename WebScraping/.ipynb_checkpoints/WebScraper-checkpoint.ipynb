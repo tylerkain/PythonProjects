{
 "cells": [
  {
   "cell_type": "code",
   "execution_count": 16,
   "metadata": {},
   "outputs": [],
   "source": [
    "import requests\n",
    "from bs4 import BeautifulSoup\n",
    "import pandas as pd\n"
   ]
  },
  {
   "cell_type": "code",
   "execution_count": 17,
   "metadata": {},
   "outputs": [],
   "source": [
    "start_url = \"https://en.wikipedia.org/wiki/Russell_Wilson\"\n",
    "downloaded_html = requests.get(start_url)\n",
    "\n",
    "soup = BeautifulSoup(downloaded_html.text, features='lxml')\n",
    "\n",
    "with open('download.html', \"w\", encoding=\"utf-8\") as f:\n",
    "    f.write(soup.prettify())\n",
    "\n",
    "full_table = soup.select(\"table.wikitable tbody\")[0]\n",
    "\n",
    "\n",
    "\n"
   ]
  },
  {
   "cell_type": "code",
   "execution_count": 19,
   "metadata": {},
   "outputs": [
    {
     "name": "stdout",
     "output_type": "stream",
     "text": [
      "-----------\n",
      "Name\n",
      "\n",
      "Hometown\n",
      "\n",
      "High school / college\n",
      "\n",
      "Height\n",
      "\n",
      "Weight\n",
      "\n",
      "40‡\n",
      "\n",
      "Commit date\n",
      "\n"
     ]
    }
   ],
   "source": [
    "# Extract the table column headings\n",
    "# End result: A list with all the column headings\n",
    "\n",
    "table_head = full_table.select('tr th')\n",
    "\n",
    "print('-----------')\n",
    "for element in table_head:\n",
    "    print(element.text)"
   ]
  },
  {
   "cell_type": "code",
   "execution_count": 20,
   "metadata": {},
   "outputs": [
    {
     "name": "stdout",
     "output_type": "stream",
     "text": [
      "Name\n",
      "Hometown\n",
      "High school / college\n",
      "Height\n",
      "Weight\n",
      "40 ‡\n",
      "Commit date\n",
      "['Name', 'Hometown', 'High school / college', 'Height', 'Weight', '40 ‡', 'Commit date']\n"
     ]
    }
   ],
   "source": [
    "table_columns = []\n",
    "for element in table_head:\n",
    "    column_label = element.get_text(separator = ' ', strip=True)\n",
    "    table_columns.append(column_label)\n",
    "    print(column_label)\n",
    "print(table_columns)"
   ]
  },
  {
   "cell_type": "code",
   "execution_count": 66,
   "metadata": {},
   "outputs": [
    {
     "name": "stdout",
     "output_type": "stream",
     "text": [
      "['Quarter', 'Cumulative_production', 'Total_production', 'Model_S_sales', 'Model_X_sales', 'Model_3_sales', 'Total_sales_[b]', 'In_transit_[c]', 'Source']\n"
     ]
    }
   ],
   "source": [
    "# Extract the table column headings\n",
    "# >> Iteration 3\n",
    "\n",
    "table_columns = []\n",
    "for element in table_head:\n",
    "    column_label = element.get_text(separator=\" \", strip=True)\n",
    "    column_label = column_label.replace(' ', '_')\n",
    "    table_columns.append(column_label)\n",
    "print(table_columns)"
   ]
  },
  {
   "cell_type": "code",
   "execution_count": 21,
   "metadata": {
    "collapsed": false,
    "jupyter": {
     "outputs_hidden": false
    },
    "pycharm": {
     "name": "#%%\n"
    }
   },
   "outputs": [
    {
     "name": "stdout",
     "output_type": "stream",
     "text": [
      "['Name', 'Hometown', 'High_school_/_college', 'Height', 'Weight', '40_‡', 'Commit_date']\n"
     ]
    }
   ],
   "source": [
    "# Extract the table column headings\n",
    "# End result: A list with all the column headings\n",
    "\n",
    "# >> Final Iteration\n",
    "\n",
    "import re\n",
    "regex = re.compile('_\\[\\w\\]')\n",
    "\n",
    "table_columns = []\n",
    "for element in table_head:\n",
    "    column_label = element.get_text(separator=\" \", strip=True)\n",
    "    column_label = column_label.replace(' ', '_')\n",
    "    column_label = regex.sub('', column_label)\n",
    "    table_columns.append(column_label)\n",
    "print(table_columns)"
   ]
  },
  {
   "cell_type": "code",
   "execution_count": 22,
   "metadata": {
    "collapsed": false,
    "jupyter": {
     "outputs_hidden": false
    },
    "pycharm": {
     "name": "#%%\n"
    }
   },
   "outputs": [
    {
     "name": "stdout",
     "output_type": "stream",
     "text": [
      "[<tr>\n",
      "<th>Name\n",
      "</th>\n",
      "<th>Hometown\n",
      "</th>\n",
      "<th>High school / college\n",
      "</th>\n",
      "<th>Height\n",
      "</th>\n",
      "<th>Weight\n",
      "</th>\n",
      "<th>40<sup>‡</sup>\n",
      "</th>\n",
      "<th>Commit date\n",
      "</th></tr>, <tr style=\"border-bottom: 3px; text-align: center\">\n",
      "<td rowspan=\"2\"><b>Russell Wilson </b><br/><i><a href=\"/wiki/Quarterback\" title=\"Quarterback\">QB</a></i>\n",
      "</td>\n",
      "<td>Richmond, Virginia\n",
      "</td>\n",
      "<td><a href=\"/wiki/Collegiate_School_(Richmond,_Virginia)\" title=\"Collegiate School (Richmond, Virginia)\">Collegiate School</a>\n",
      "</td>\n",
      "<td>5 ft 11 in (1.80 m)\n",
      "</td>\n",
      "<td>205 lb (93 kg)\n",
      "</td>\n",
      "<td>4.53\n",
      "</td>\n",
      "<td class=\"nowrap\">Jul 23, 2006 \n",
      "</td></tr>, <tr style=\"text-align: center\">\n",
      "<td colspan=\"7\"><b><a href=\"/wiki/College_recruiting#Star_Ratings\" title=\"College recruiting\">Recruiting star ratings</a>:</b> <a href=\"/wiki/Scout.com\" title=\"Scout.com\">Scout</a>:<a class=\"image\" href=\"/wiki/File:2_stars.svg\"><img alt=\"2/5 stars\" data-file-height=\"110\" data-file-width=\"535\" decoding=\"async\" height=\"15\" src=\"//upload.wikimedia.org/wikipedia/commons/thumb/8/88/2_stars.svg/75px-2_stars.svg.png\" srcset=\"//upload.wikimedia.org/wikipedia/commons/thumb/8/88/2_stars.svg/113px-2_stars.svg.png 1.5x, //upload.wikimedia.org/wikipedia/commons/thumb/8/88/2_stars.svg/150px-2_stars.svg.png 2x\" width=\"75\"/></a>   <a href=\"/wiki/Rivals.com\" title=\"Rivals.com\">Rivals</a>:<a class=\"image\" href=\"/wiki/File:2_stars.svg\"><img alt=\"2/5 stars\" data-file-height=\"110\" data-file-width=\"535\" decoding=\"async\" height=\"15\" src=\"//upload.wikimedia.org/wikipedia/commons/thumb/8/88/2_stars.svg/75px-2_stars.svg.png\" srcset=\"//upload.wikimedia.org/wikipedia/commons/thumb/8/88/2_stars.svg/113px-2_stars.svg.png 1.5x, //upload.wikimedia.org/wikipedia/commons/thumb/8/88/2_stars.svg/150px-2_stars.svg.png 2x\" width=\"75\"/></a>   <a href=\"/wiki/247Sports.com\" title=\"247Sports.com\">247Sports</a>: <i>N/A</i>\n",
      "</td></tr>, <tr>\n",
      "<td colspan=\"7\" style=\"padding-left:10px;\"><b>Overall recruiting rankings:</b> <a href=\"/wiki/Scout.com\" title=\"Scout.com\">Scout</a>: <i>67 (<a href=\"/wiki/Quarterback\" title=\"Quarterback\">QB</a>)</i>   <a href=\"/wiki/Rivals.com\" title=\"Rivals.com\">Rivals</a>: <i>NR (QB), NR (<a href=\"/wiki/Virginia\" title=\"Virginia\">Virginia</a>)</i>\n",
      "</td></tr>, <tr>\n",
      "<td class=\"plainlist\" colspan=\"7\" style=\"font-size:85%; background:#F5F5F5;\">\n",
      "<ul><li>‡ Refers to <a class=\"mw-redirect\" href=\"/wiki/40_yard_dash\" title=\"40 yard dash\">40 yard dash</a></li>\n",
      "<li><i>Note</i>: In many cases, Scout, Rivals, 247Sports, and ESPN may conflict in their listings of height, weight and 40 time.</li>\n",
      "<li>In these cases, the average was taken.  ESPN grades are on a 100-point scale.</li></ul>\n",
      "<p><i>Sources:</i>\n",
      "</p>\n",
      "<ul><li class=\"mw-empty-elt\"></li>\n",
      "<li class=\"mw-empty-elt\"></li>\n",
      "<li class=\"mw-empty-elt\"></li>\n",
      "<li class=\"mw-empty-elt\"></li>\n",
      "<li><style data-mw-deduplicate=\"TemplateStyles:r999302996\">.mw-parser-output cite.citation{font-style:inherit}.mw-parser-output .citation q{quotes:\"\\\"\"\"\\\"\"\"'\"\"'\"}.mw-parser-output .id-lock-free a,.mw-parser-output .citation .cs1-lock-free a{background:linear-gradient(transparent,transparent),url(\"//upload.wikimedia.org/wikipedia/commons/6/65/Lock-green.svg\")right 0.1em center/9px no-repeat}.mw-parser-output .id-lock-limited a,.mw-parser-output .id-lock-registration a,.mw-parser-output .citation .cs1-lock-limited a,.mw-parser-output .citation .cs1-lock-registration a{background:linear-gradient(transparent,transparent),url(\"//upload.wikimedia.org/wikipedia/commons/d/d6/Lock-gray-alt-2.svg\")right 0.1em center/9px no-repeat}.mw-parser-output .id-lock-subscription a,.mw-parser-output .citation .cs1-lock-subscription a{background:linear-gradient(transparent,transparent),url(\"//upload.wikimedia.org/wikipedia/commons/a/aa/Lock-red-alt-2.svg\")right 0.1em center/9px no-repeat}.mw-parser-output .cs1-subscription,.mw-parser-output .cs1-registration{color:#555}.mw-parser-output .cs1-subscription span,.mw-parser-output .cs1-registration span{border-bottom:1px dotted;cursor:help}.mw-parser-output .cs1-ws-icon a{background:linear-gradient(transparent,transparent),url(\"//upload.wikimedia.org/wikipedia/commons/4/4c/Wikisource-logo.svg\")right 0.1em center/12px no-repeat}.mw-parser-output code.cs1-code{color:inherit;background:inherit;border:none;padding:inherit}.mw-parser-output .cs1-hidden-error{display:none;font-size:100%}.mw-parser-output .cs1-visible-error{font-size:100%}.mw-parser-output .cs1-maint{display:none;color:#33aa33;margin-left:0.3em}.mw-parser-output .cs1-format{font-size:95%}.mw-parser-output .cs1-kern-left,.mw-parser-output .cs1-kern-wl-left{padding-left:0.2em}.mw-parser-output .cs1-kern-right,.mw-parser-output .cs1-kern-wl-right{padding-right:0.2em}.mw-parser-output .citation .mw-selflink{font-weight:inherit}</style><cite class=\"citation web cs1\"><a class=\"external text\" href=\"https://n.rivals.com/team_rankings/2007\" rel=\"nofollow\">\"2007 Team Ranking\"</a>. Rivals.com<span class=\"reference-accessdate\">. Retrieved <span class=\"nowrap\">October 7,</span> 2011</span>.</cite><span class=\"Z3988\" title=\"ctx_ver=Z39.88-2004&amp;rft_val_fmt=info%3Aofi%2Ffmt%3Akev%3Amtx%3Abook&amp;rft.genre=unknown&amp;rft.btitle=2007+Team+Ranking&amp;rft.pub=Rivals.com&amp;rft_id=https%3A%2F%2Fn.rivals.com%2Fteam_rankings%2F2007&amp;rfr_id=info%3Asid%2Fen.wikipedia.org%3ARussell+Wilson\"></span></li></ul>\n",
      "<ul><li class=\"mw-empty-elt\"></li></ul>\n",
      "</td></tr>]\n"
     ]
    }
   ],
   "source": [
    "# Extract the table data (rows)\n",
    "# End result: A multi-dimensional list containing a list for each row\n",
    "\n",
    "table_rows = full_table.select('tr')\n",
    "print(table_rows)\n"
   ]
  },
  {
   "cell_type": "code",
   "execution_count": 23,
   "metadata": {
    "collapsed": false,
    "jupyter": {
     "outputs_hidden": false
    },
    "pycharm": {
     "name": "#%%\n"
    }
   },
   "outputs": [
    {
     "name": "stdout",
     "output_type": "stream",
     "text": [
      "[['Russell Wilson QB', 'Richmond, Virginia', 'Collegiate School', '5\\xa0ft 11\\xa0in (1.80\\xa0m)', '205\\xa0lb (93\\xa0kg)', '4.53', 'Jul 23, 2006'], ['Recruiting star ratings: Scout:\\xa0\\xa0\\xa0Rivals:\\xa0\\xa0\\xa0247Sports:\\xa0N/A'], ['Overall recruiting rankings: Scout: 67 (QB) \\xa0\\xa0Rivals: NR (QB), NR (Virginia)'], ['‡ Refers to 40 yard dash\\nNote: In many cases, Scout, Rivals, 247Sports, and ESPN may conflict in their listings of height, weight and 40 time.\\nIn these cases, the average was taken.  ESPN grades are on a 100-point scale.\\nSources:\\n\\n\\n\\n\\n\\n\"2007 Team Ranking\". Rivals.com. Retrieved October 7, 2011.']]\n"
     ]
    }
   ],
   "source": [
    "# Extract the table data (rows)\n",
    "# End result: A multi-dimensional list containing a list for each row\n",
    "\n",
    "# Final Iteration\n",
    "\n",
    "table_rows = full_table.select('tr')\n",
    "table_data = []\n",
    "for index, element in enumerate(table_rows):\n",
    "    if index > 0:\n",
    "        row_list = []\n",
    "        values = element.select('td')\n",
    "        for value in values:\n",
    "            row_list.append(value.text.strip())\n",
    "        table_data.append(row_list)\n",
    "\n",
    "print(table_data)\n"
   ]
  },
  {
   "cell_type": "code",
   "execution_count": 24,
   "metadata": {
    "collapsed": false,
    "jupyter": {
     "outputs_hidden": false
    },
    "pycharm": {
     "name": "#%%\n"
    }
   },
   "outputs": [
    {
     "data": {
      "text/html": [
       "<div>\n",
       "<style scoped>\n",
       "    .dataframe tbody tr th:only-of-type {\n",
       "        vertical-align: middle;\n",
       "    }\n",
       "\n",
       "    .dataframe tbody tr th {\n",
       "        vertical-align: top;\n",
       "    }\n",
       "\n",
       "    .dataframe thead th {\n",
       "        text-align: right;\n",
       "    }\n",
       "</style>\n",
       "<table border=\"1\" class=\"dataframe\">\n",
       "  <thead>\n",
       "    <tr style=\"text-align: right;\">\n",
       "      <th></th>\n",
       "      <th>Name</th>\n",
       "      <th>Hometown</th>\n",
       "      <th>High_school_/_college</th>\n",
       "      <th>Height</th>\n",
       "      <th>Weight</th>\n",
       "      <th>40_‡</th>\n",
       "      <th>Commit_date</th>\n",
       "    </tr>\n",
       "  </thead>\n",
       "  <tbody>\n",
       "    <tr>\n",
       "      <th>0</th>\n",
       "      <td>Russell Wilson QB</td>\n",
       "      <td>Richmond, Virginia</td>\n",
       "      <td>Collegiate School</td>\n",
       "      <td>5 ft 11 in (1.80 m)</td>\n",
       "      <td>205 lb (93 kg)</td>\n",
       "      <td>4.53</td>\n",
       "      <td>Jul 23, 2006</td>\n",
       "    </tr>\n",
       "    <tr>\n",
       "      <th>1</th>\n",
       "      <td>Recruiting star ratings: Scout:   Rivals:   24...</td>\n",
       "      <td>None</td>\n",
       "      <td>None</td>\n",
       "      <td>None</td>\n",
       "      <td>None</td>\n",
       "      <td>None</td>\n",
       "      <td>None</td>\n",
       "    </tr>\n",
       "    <tr>\n",
       "      <th>2</th>\n",
       "      <td>Overall recruiting rankings: Scout: 67 (QB)   ...</td>\n",
       "      <td>None</td>\n",
       "      <td>None</td>\n",
       "      <td>None</td>\n",
       "      <td>None</td>\n",
       "      <td>None</td>\n",
       "      <td>None</td>\n",
       "    </tr>\n",
       "    <tr>\n",
       "      <th>3</th>\n",
       "      <td>‡ Refers to 40 yard dash\\nNote: In many cases,...</td>\n",
       "      <td>None</td>\n",
       "      <td>None</td>\n",
       "      <td>None</td>\n",
       "      <td>None</td>\n",
       "      <td>None</td>\n",
       "      <td>None</td>\n",
       "    </tr>\n",
       "  </tbody>\n",
       "</table>\n",
       "</div>"
      ],
      "text/plain": [
       "                                                Name            Hometown  \\\n",
       "0                                  Russell Wilson QB  Richmond, Virginia   \n",
       "1  Recruiting star ratings: Scout:   Rivals:   24...                None   \n",
       "2  Overall recruiting rankings: Scout: 67 (QB)   ...                None   \n",
       "3  ‡ Refers to 40 yard dash\\nNote: In many cases,...                None   \n",
       "\n",
       "  High_school_/_college               Height          Weight  40_‡  \\\n",
       "0     Collegiate School  5 ft 11 in (1.80 m)  205 lb (93 kg)  4.53   \n",
       "1                  None                 None            None  None   \n",
       "2                  None                 None            None  None   \n",
       "3                  None                 None            None  None   \n",
       "\n",
       "    Commit_date  \n",
       "0  Jul 23, 2006  \n",
       "1          None  \n",
       "2          None  \n",
       "3          None  "
      ]
     },
     "execution_count": 24,
     "metadata": {},
     "output_type": "execute_result"
    }
   ],
   "source": [
    "# Create a Pandas DataFrame\n",
    "\n",
    "df = pd.DataFrame(table_data, columns=table_columns) \n",
    "df"
   ]
  },
  {
   "cell_type": "code",
   "execution_count": null,
   "metadata": {},
   "outputs": [],
   "source": []
  }
 ],
 "metadata": {
  "kernelspec": {
   "display_name": "Python 3",
   "language": "python",
   "name": "python3"
  },
  "language_info": {
   "codemirror_mode": {
    "name": "ipython",
    "version": 3
   },
   "file_extension": ".py",
   "mimetype": "text/x-python",
   "name": "python",
   "nbconvert_exporter": "python",
   "pygments_lexer": "ipython3",
   "version": "3.8.5"
  }
 },
 "nbformat": 4,
 "nbformat_minor": 4
}
